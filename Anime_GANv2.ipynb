{
 "cells": [
  {
   "cell_type": "code",
   "execution_count": 5,
   "metadata": {},
   "outputs": [
    {
     "name": "stdout",
     "output_type": "stream",
     "text": [
      "Looking in indexes: https://download.pytorch.org/whl/cpu\n",
      "Collecting torch\n",
      "  Obtaining dependency information for torch from https://download.pytorch.org/whl/cpu/torch-2.6.0-cp311-none-macosx_11_0_arm64.whl.metadata\n",
      "  Downloading https://download.pytorch.org/whl/cpu/torch-2.6.0-cp311-none-macosx_11_0_arm64.whl.metadata (28 kB)\n",
      "Collecting torchvision\n",
      "  Obtaining dependency information for torchvision from https://download.pytorch.org/whl/cpu/torchvision-0.21.0-cp311-cp311-macosx_11_0_arm64.whl.metadata\n",
      "  Downloading https://download.pytorch.org/whl/cpu/torchvision-0.21.0-cp311-cp311-macosx_11_0_arm64.whl.metadata (6.1 kB)\n",
      "Collecting torchaudio\n",
      "  Obtaining dependency information for torchaudio from https://download.pytorch.org/whl/cpu/torchaudio-2.6.0-cp311-cp311-macosx_11_0_arm64.whl.metadata\n",
      "  Downloading https://download.pytorch.org/whl/cpu/torchaudio-2.6.0-cp311-cp311-macosx_11_0_arm64.whl.metadata (6.6 kB)\n",
      "Requirement already satisfied: filelock in /Users/buraktekgul/Desktop/anaconda3/lib/python3.11/site-packages (from torch) (3.13.1)\n",
      "Requirement already satisfied: typing-extensions>=4.10.0 in /Users/buraktekgul/Desktop/anaconda3/lib/python3.11/site-packages (from torch) (4.12.2)\n",
      "Requirement already satisfied: networkx in /Users/buraktekgul/Desktop/anaconda3/lib/python3.11/site-packages (from torch) (3.4.2)\n",
      "Requirement already satisfied: jinja2 in /Users/buraktekgul/Desktop/anaconda3/lib/python3.11/site-packages (from torch) (3.1.6)\n",
      "Requirement already satisfied: fsspec in /Users/buraktekgul/Desktop/anaconda3/lib/python3.11/site-packages (from torch) (2024.12.0)\n",
      "Collecting sympy==1.13.1 (from torch)\n",
      "  Downloading https://download.pytorch.org/whl/sympy-1.13.1-py3-none-any.whl (6.2 MB)\n",
      "\u001b[2K     \u001b[90m━━━━━━━━━━━━━━━━━━━━━━━━━━━━━━━━━━━━━━━━\u001b[0m \u001b[32m6.2/6.2 MB\u001b[0m \u001b[31m9.0 MB/s\u001b[0m eta \u001b[36m0:00:00\u001b[0m00:01\u001b[0m00:01\u001b[0m\n",
      "\u001b[?25hRequirement already satisfied: mpmath<1.4,>=1.1.0 in /Users/buraktekgul/Desktop/anaconda3/lib/python3.11/site-packages (from sympy==1.13.1->torch) (1.3.0)\n",
      "Requirement already satisfied: numpy in /Users/buraktekgul/Desktop/anaconda3/lib/python3.11/site-packages (from torchvision) (2.1.3)\n",
      "Requirement already satisfied: pillow!=8.3.*,>=5.3.0 in /Users/buraktekgul/Desktop/anaconda3/lib/python3.11/site-packages (from torchvision) (11.1.0)\n",
      "Requirement already satisfied: MarkupSafe>=2.0 in /Users/buraktekgul/Desktop/anaconda3/lib/python3.11/site-packages (from jinja2->torch) (3.0.2)\n",
      "Downloading https://download.pytorch.org/whl/cpu/torch-2.6.0-cp311-none-macosx_11_0_arm64.whl (66.5 MB)\n",
      "\u001b[2K   \u001b[90m━━━━━━━━━━━━━━━━━━━━━━━━━━━━━━━━━━━━━━━━\u001b[0m \u001b[32m66.5/66.5 MB\u001b[0m \u001b[31m11.1 MB/s\u001b[0m eta \u001b[36m0:00:00\u001b[0m00:01\u001b[0m00:01\u001b[0m\n",
      "\u001b[?25hDownloading https://download.pytorch.org/whl/cpu/torchvision-0.21.0-cp311-cp311-macosx_11_0_arm64.whl (1.8 MB)\n",
      "\u001b[2K   \u001b[90m━━━━━━━━━━━━━━━━━━━━━━━━━━━━━━━━━━━━━━━━\u001b[0m \u001b[32m1.8/1.8 MB\u001b[0m \u001b[31m8.7 MB/s\u001b[0m eta \u001b[36m0:00:00\u001b[0mta \u001b[36m0:00:01\u001b[0m\n",
      "\u001b[?25hDownloading https://download.pytorch.org/whl/cpu/torchaudio-2.6.0-cp311-cp311-macosx_11_0_arm64.whl (1.8 MB)\n",
      "\u001b[2K   \u001b[90m━━━━━━━━━━━━━━━━━━━━━━━━━━━━━━━━━━━━━━━━\u001b[0m \u001b[32m1.8/1.8 MB\u001b[0m \u001b[31m9.0 MB/s\u001b[0m eta \u001b[36m0:00:00\u001b[0ma \u001b[36m0:00:01\u001b[0mm\n",
      "\u001b[?25hInstalling collected packages: sympy, torch, torchvision, torchaudio\n",
      "  Attempting uninstall: sympy\n",
      "    Found existing installation: sympy 1.13.3\n",
      "    Uninstalling sympy-1.13.3:\n",
      "      Successfully uninstalled sympy-1.13.3\n",
      "Successfully installed sympy-1.13.1 torch-2.6.0 torchaudio-2.6.0 torchvision-0.21.0\n",
      "Note: you may need to restart the kernel to use updated packages.\n"
     ]
    }
   ],
   "source": [
    "pip install torch torchvision torchaudio --index-url https://download.pytorch.org/whl/cpu\n"
   ]
  },
  {
   "cell_type": "code",
   "execution_count": 1,
   "metadata": {},
   "outputs": [],
   "source": [
    "import torch"
   ]
  },
  {
   "cell_type": "code",
   "execution_count": 3,
   "metadata": {},
   "outputs": [
    {
     "name": "stderr",
     "output_type": "stream",
     "text": [
      "/Users/buraktekgul/Desktop/anaconda3/lib/python3.11/site-packages/torch/hub.py:330: UserWarning: You are about to download and run code from an untrusted repository. In a future release, this won't be allowed. To add the repository to your trusted list, change the command to {calling_fn}(..., trust_repo=False) and a command prompt will appear asking for an explicit confirmation of trust, or load(..., trust_repo=True), which will assume that the prompt is to be answered with 'yes'. You can also use load(..., trust_repo='check') which will only prompt for confirmation if the repo is not already trusted. This will eventually be the default behaviour\n",
      "  warnings.warn(\n",
      "Downloading: \"https://github.com/bryandlee/animegan2-pytorch/zipball/main\" to /Users/buraktekgul/.cache/torch/hub/main.zip\n",
      "Downloading: \"https://github.com/bryandlee/animegan2-pytorch/raw/main/weights/face_paint_512_v2.pt\" to /Users/buraktekgul/.cache/torch/hub/checkpoints/face_paint_512_v2.pt\n",
      "100%|██████████| 8.20M/8.20M [00:01<00:00, 7.25MB/s]\n",
      "Using cache found in /Users/buraktekgul/.cache/torch/hub/bryandlee_animegan2-pytorch_main\n"
     ]
    }
   ],
   "source": [
    "device=\"cuda\" if torch.cuda.is_available() else \"cpu\"\n",
    "model = torch.hub.load(\"bryandlee/animegan2-pytorch:main\", \"generator\", device=device).eval()\n",
    "face2paint = torch.hub.load(\"bryandlee/animegan2-pytorch:main\", \"face2paint\", device=device, side_by_side=True)"
   ]
  },
  {
   "cell_type": "code",
   "execution_count": 3,
   "metadata": {},
   "outputs": [],
   "source": [
    "import os\n",
    "import dlib\n",
    "import collections\n",
    "from typing import Union,List\n",
    "import numpy as np\n",
    "from PIL import Image\n",
    "import matplotlib.pyplot as plt"
   ]
  },
  {
   "cell_type": "code",
   "execution_count": 3,
   "metadata": {},
   "outputs": [
    {
     "name": "stdout",
     "output_type": "stream",
     "text": [
      "Collecting cmake\n",
      "  Obtaining dependency information for cmake from https://files.pythonhosted.org/packages/7f/09/516b0d709672bc430eb13278f0316acd34869269447744f5d136daeef689/cmake-3.31.6-py3-none-macosx_10_10_universal2.whl.metadata\n",
      "  Downloading cmake-3.31.6-py3-none-macosx_10_10_universal2.whl.metadata (6.3 kB)\n",
      "Downloading cmake-3.31.6-py3-none-macosx_10_10_universal2.whl (47.2 MB)\n",
      "\u001b[2K   \u001b[90m━━━━━━━━━━━━━━━━━━━━━━━━━━━━━━━━━━━━━━━━\u001b[0m \u001b[32m47.2/47.2 MB\u001b[0m \u001b[31m5.1 MB/s\u001b[0m eta \u001b[36m0:00:00\u001b[0m00:01\u001b[0m00:01\u001b[0m\n",
      "\u001b[?25hInstalling collected packages: cmake\n",
      "Successfully installed cmake-3.31.6\n",
      "Note: you may need to restart the kernel to use updated packages.\n"
     ]
    }
   ],
   "source": [
    "pip install cmake\n"
   ]
  },
  {
   "cell_type": "code",
   "execution_count": 4,
   "metadata": {},
   "outputs": [
    {
     "name": "stdout",
     "output_type": "stream",
     "text": [
      "Collecting dlib\n",
      "  Using cached dlib-19.24.6.tar.gz (3.4 MB)\n",
      "  Preparing metadata (setup.py) ... \u001b[?25ldone\n",
      "\u001b[?25hBuilding wheels for collected packages: dlib\n",
      "  Building wheel for dlib (setup.py) ... \u001b[?25ldone\n",
      "\u001b[?25h  Created wheel for dlib: filename=dlib-19.24.6-cp311-cp311-macosx_13_0_arm64.whl size=2987319 sha256=d1f69214463c3c38492b3d52229f0dfd3dd21e50e5f55d942b22fd4517b630ce\n",
      "  Stored in directory: /Users/buraktekgul/Library/Caches/pip/wheels/fe/c7/1f/c778b9f7cc6d8d0da4f6697f619f9eb5a49d54d2a2c8267f3c\n",
      "Successfully built dlib\n",
      "Installing collected packages: dlib\n",
      "Successfully installed dlib-19.24.6\n",
      "Note: you may need to restart the kernel to use updated packages.\n"
     ]
    }
   ],
   "source": [
    "pip install dlib"
   ]
  },
  {
   "cell_type": "code",
   "execution_count": null,
   "metadata": {},
   "outputs": [],
   "source": [
    "def get_dlib_face_detector(predictor_path:str=\"shape_predictor_68_face_landmarks.dat\"):\n",
    "\n",
    "    if not os.path.isfile(predictor_path):\n",
    "        model_file=\"shape_predictor_68_face_landmarks.dat.bz2\"\n",
    "        os.system(f\"wget http://dlib.net/files/{model_file}\")\n",
    "        os.system(f\"bzip2 -dk {model_file}\")\n",
    "\n",
    "    detector=dlib.get_frontal_face_detector()\n",
    "    shape_predictor=dlib.shape_predictor(predictor_path)\n",
    "\n",
    "    def detect_face_landmarks(img:Union[Image.Image,np.ndarray]):\n",
    "\n",
    "        if isinstance(img,Image.Image):\n",
    "            img=np.array(img)\n",
    "\n",
    "        faces=[]\n",
    "        dets=detector(img)\n",
    "        for d in dets:\n",
    "            shape=shape_predictor(img,d)\n",
    "            faces.append(np.array([[v.x,v.y] for v in shape.parts()]))\n",
    "\n",
    "        return faces\n",
    "    \n",
    "    return detect_face_landmarks #image union nasıl oluyor detector self demeden diğer fonksiyonda nasıl kullandık\n",
    "\n",
    "def display_facial_landmarks(img:Image,landmarks:List[np.ndarray],fig_size=[15,15]):\n",
    "    plot_style=dict(\n",
    "        marker='o',\n",
    "        markersize=4,\n",
    "        linestyle='-',\n",
    "        lw=2\n",
    "    )\n",
    "\n",
    "    pred_type=collections.namedtuple('prediction_type',['slice','color'])\n",
    "    pred_types={\n",
    "        'face':pred_type(slice(0, 17), (0.682, 0.780, 0.909, 0.5)),\n",
    "        'eyebrow1':pred_type(slice(17, 22), (1.0, 0.498, 0.055, 0.4)),\n",
    "        'eyebrow2':pred_type(slice(22, 27), (1.0, 0.498, 0.055, 0.4)),\n",
    "        'nose':pred_type(slice(27, 31), (0.345, 0.239, 0.443, 0.4)),\n",
    "        'nostril':pred_type(slice(31, 36), (0.345, 0.239, 0.443, 0.4)),\n",
    "        'eye1':pred_type(slice(36, 42), (0.596, 0.875, 0.541, 0.3)),\n",
    "        'eye2':pred_type(slice(42, 48), (0.596, 0.875, 0.541, 0.3)),\n",
    "        'lips':pred_type(slice(48, 60), (0.596, 0.875, 0.541, 0.3)),\n",
    "        'teeth':pred_type(slice(60, 68), (0.596, 0.875, 0.541, 0.4))\n",
    "    }\n",
    "\n",
    "    fig=plt.figure(figsize=fig_size)\n",
    "    ax=fig.add_subplot(1,1,1)\n",
    "    ax.imshow(img)\n",
    "    ax.axis(\"off\")\n",
    "\n",
    "    for face in landmarks:\n",
    "        for pred_type in pred_types.values():\n",
    "            ax.plot(\n",
    "                face[pred_type.slice,0],\n",
    "                face[pred_type.slice,1],\n",
    "                color=pred_type.color,**plot_style\n",
    "            )\n",
    "    \n",
    "    plt.show()\n",
    "    "
   ]
  }
 ],
 "metadata": {
  "kernelspec": {
   "display_name": "base",
   "language": "python",
   "name": "python3"
  },
  "language_info": {
   "codemirror_mode": {
    "name": "ipython",
    "version": 3
   },
   "file_extension": ".py",
   "mimetype": "text/x-python",
   "name": "python",
   "nbconvert_exporter": "python",
   "pygments_lexer": "ipython3",
   "version": "3.11.5"
  }
 },
 "nbformat": 4,
 "nbformat_minor": 2
}
